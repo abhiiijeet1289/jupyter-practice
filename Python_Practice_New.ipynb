{
 "cells": [
  {
   "cell_type": "markdown",
   "id": "69a268da-eb9f-4172-b2d2-12bd6f7d60c1",
   "metadata": {},
   "source": [
    "## Python Practice"
   ]
  },
  {
   "cell_type": "code",
   "execution_count": 2,
   "id": "95fd01f1-5ed8-4dc9-a582-f11ec971521d",
   "metadata": {},
   "outputs": [],
   "source": [
    "## Addition "
   ]
  },
  {
   "cell_type": "code",
   "execution_count": 4,
   "id": "72134314-ce26-4df0-b7c1-1332cfab15a1",
   "metadata": {},
   "outputs": [
    {
     "name": "stdin",
     "output_type": "stream",
     "text": [
      "Enter the first number:- 85\n",
      "Enter the seconf number:- 55\n"
     ]
    },
    {
     "name": "stdout",
     "output_type": "stream",
     "text": [
      "140.0\n"
     ]
    }
   ],
   "source": [
    "num1 = float(input(\"Enter the first number:-\"))\n",
    "num2 = float(input(\"Enter the seconf number:-\"))\n",
    "\n",
    "sum = num1 + num2\n",
    "print(sum)"
   ]
  },
  {
   "cell_type": "code",
   "execution_count": 6,
   "id": "27e77a3a-5fde-4cce-9263-e1d72b3c0502",
   "metadata": {},
   "outputs": [],
   "source": [
    "## Division"
   ]
  },
  {
   "cell_type": "code",
   "execution_count": 8,
   "id": "8be1e452-1074-411a-ab0e-4d35511f57af",
   "metadata": {},
   "outputs": [
    {
     "name": "stdin",
     "output_type": "stream",
     "text": [
      "Enter the first number:- 55\n",
      "Enter the seconf number:- 5\n"
     ]
    },
    {
     "name": "stdout",
     "output_type": "stream",
     "text": [
      "11.0\n"
     ]
    }
   ],
   "source": [
    "num1 = float(input(\"Enter the first number:-\"))\n",
    "num2 = float(input(\"Enter the seconf number:-\"))\n",
    "\n",
    "if num2 == 0:\n",
    "    print(\"Error: Division by zero is not allowed.\")\n",
    "else:\n",
    "    Division = num1/num2 \n",
    "    print(Division)"
   ]
  },
  {
   "cell_type": "code",
   "execution_count": 10,
   "id": "252590ec-dc5b-42f2-b8d2-f28042a9b486",
   "metadata": {},
   "outputs": [],
   "source": [
    "##Area of triangle"
   ]
  },
  {
   "cell_type": "code",
   "execution_count": 12,
   "id": "cf6dacf2-a684-43fb-936b-fb2b1e74f125",
   "metadata": {},
   "outputs": [
    {
     "name": "stdin",
     "output_type": "stream",
     "text": [
      "Enter the base of tringle:- 8\n",
      "Enter the height of tringle:- 6\n"
     ]
    },
    {
     "name": "stdout",
     "output_type": "stream",
     "text": [
      "The Base of triangle is 8.0 and the Height is 6.0, So the Area of Triangle is 24.0.\n"
     ]
    }
   ],
   "source": [
    "base = float(input(\"Enter the base of tringle:-\"))\n",
    "height = float(input(\"Enter the height of tringle:-\"))\n",
    "\n",
    "Area_Triangle = 0.5 * base * height\n",
    "\n",
    "print(f\"The Base of triangle is {base} and the Height is {height}, So the Area of Triangle is {Area_Triangle}.\")"
   ]
  },
  {
   "cell_type": "code",
   "execution_count": 14,
   "id": "b2415582-25f3-437e-beb3-1b0d71569ee0",
   "metadata": {},
   "outputs": [],
   "source": [
    "## To swap to variables"
   ]
  },
  {
   "cell_type": "code",
   "execution_count": 18,
   "id": "bcccdbc7-84a5-4c48-8d62-0b30e8fef286",
   "metadata": {},
   "outputs": [
    {
     "name": "stdin",
     "output_type": "stream",
     "text": [
      "Enter the value of first variable (a) 5\n",
      "Enter the value of first variable (b) 6\n"
     ]
    },
    {
     "name": "stdout",
     "output_type": "stream",
     "text": [
      "The original values: a = 5, b = 6\n",
      "The swapped value of a = 6 and b = 5\n"
     ]
    }
   ],
   "source": [
    "a = int(input(\"Enter the value of first variable (a)\"))\n",
    "b = int(input(\"Enter the value of first variable (b)\"))\n",
    "\n",
    "print(f\"The original values: a = {a}, b = {b}\")\n",
    "temp = a\n",
    "a = b\n",
    "b = temp\n",
    "print(f\"The swapped value of a = {a} and b = {b}\")"
   ]
  },
  {
   "cell_type": "code",
   "execution_count": 20,
   "id": "fdfe9716-74cd-40a8-8659-5e22244942fd",
   "metadata": {},
   "outputs": [
    {
     "name": "stdin",
     "output_type": "stream",
     "text": [
      "Enter the value of first variable (a) 5\n",
      "Enter the value of first variable (b) 6\n"
     ]
    },
    {
     "name": "stdout",
     "output_type": "stream",
     "text": [
      "The original values: a = 5, b = 6\n",
      "The swapped value of a = 6 and b = 5\n"
     ]
    }
   ],
   "source": [
    "a = int(input(\"Enter the value of first variable (a)\"))\n",
    "b = int(input(\"Enter the value of first variable (b)\"))\n",
    "\n",
    "print(f\"The original values: a = {a}, b = {b}\")\n",
    "a, b = b,a\n",
    "print(f\"The swapped value of a = {a} and b = {b}\")"
   ]
  },
  {
   "cell_type": "code",
   "execution_count": 22,
   "id": "4d8dd551-a438-4888-8f37-c316387a007e",
   "metadata": {},
   "outputs": [],
   "source": [
    "## Generate a random number"
   ]
  },
  {
   "cell_type": "code",
   "execution_count": 32,
   "id": "44574e55-6860-41d1-b1d9-b4cafffb5a96",
   "metadata": {},
   "outputs": [
    {
     "name": "stdout",
     "output_type": "stream",
     "text": [
      "random number: 88\n"
     ]
    }
   ],
   "source": [
    "import random\n",
    "print(f\"random number: {random.randint(1, 100)}\")"
   ]
  },
  {
   "cell_type": "code",
   "execution_count": 34,
   "id": "7ea776f7-a672-4651-b8a6-740c22960bbc",
   "metadata": {},
   "outputs": [],
   "source": [
    "## Convert kilometeres to miles"
   ]
  },
  {
   "cell_type": "code",
   "execution_count": 38,
   "id": "a629cec3-53fe-497e-9192-10a54270ee77",
   "metadata": {},
   "outputs": [
    {
     "name": "stdin",
     "output_type": "stream",
     "text": [
      "Enter distance in kilometer:-  55\n"
     ]
    },
    {
     "name": "stdout",
     "output_type": "stream",
     "text": [
      "55.0 kilometers is equal to 31.068550000000002 miles\n"
     ]
    }
   ],
   "source": [
    "Kilometer = float(input(\"Enter distance in kilometer:- \"))\n",
    "\n",
    "conversion_factor = 0.621371\n",
    "\n",
    "miles = Kilometers * conversion_factor\n",
    "print(f\"{Kilometer} kilometers is equal to {miles} miles\")"
   ]
  },
  {
   "cell_type": "code",
   "execution_count": 42,
   "id": "960eff30-1dd0-48cc-b18e-933837c7cff2",
   "metadata": {},
   "outputs": [],
   "source": [
    "##Display Calender\n",
    "import calendar"
   ]
  },
  {
   "cell_type": "code",
   "execution_count": 48,
   "id": "c6476690-5796-46be-9b30-6155c5d94dfb",
   "metadata": {},
   "outputs": [
    {
     "name": "stdin",
     "output_type": "stream",
     "text": [
      "Enter a year:-  2025\n",
      "Enter a month:-  6\n"
     ]
    },
    {
     "name": "stdout",
     "output_type": "stream",
     "text": [
      "     June 2025\n",
      "Mo Tu We Th Fr Sa Su\n",
      "                   1\n",
      " 2  3  4  5  6  7  8\n",
      " 9 10 11 12 13 14 15\n",
      "16 17 18 19 20 21 22\n",
      "23 24 25 26 27 28 29\n",
      "30\n",
      "\n"
     ]
    }
   ],
   "source": [
    "year = int(input(\"Enter a year:- \"))\n",
    "month = int(input(\"Enter a month:- \"))\n",
    "\n",
    "cal = calendar.month(year, month)\n",
    "print(cal)"
   ]
  },
  {
   "cell_type": "code",
   "execution_count": 54,
   "id": "6d449722-8e81-4982-bb66-c80b701ba2d2",
   "metadata": {},
   "outputs": [
    {
     "name": "stdin",
     "output_type": "stream",
     "text": [
      "Enter a number:-  0\n"
     ]
    },
    {
     "name": "stdout",
     "output_type": "stream",
     "text": [
      "Zero\n"
     ]
    }
   ],
   "source": [
    "## Check number is [ositive, negative or zero\n",
    "\n",
    "num = int(input(\"Enter a number:- \"))\n",
    "if num == 0:\n",
    "    print(\"Zero\")\n",
    "elif num > 0:\n",
    "    print(\"Number is positive\")\n",
    "else:\n",
    "    print(\"Negative number\")"
   ]
  },
  {
   "cell_type": "code",
   "execution_count": 1,
   "id": "bd651060-fbc4-48ca-87d5-a78c992f8e19",
   "metadata": {},
   "outputs": [],
   "source": [
    "##Even or Odd\n"
   ]
  },
  {
   "cell_type": "code",
   "execution_count": 10,
   "id": "0ee4b2c3-68d3-4e86-9e67-8a6081a36c5d",
   "metadata": {},
   "outputs": [
    {
     "name": "stdin",
     "output_type": "stream",
     "text": [
      "Enter a number to check even or odd:-  2\n"
     ]
    },
    {
     "name": "stdout",
     "output_type": "stream",
     "text": [
      "Entered number 2 is even\n"
     ]
    }
   ],
   "source": [
    "num = int(input(\"Enter a number to check even or odd:- \"))\n",
    "\n",
    "if num % 2 == 0:\n",
    "    print(f\"Entered number {num} is even\")\n",
    "else:\n",
    "    print(\"This is odd\")"
   ]
  },
  {
   "cell_type": "code",
   "execution_count": 12,
   "id": "09253172-198f-45b4-9da0-6bcfeefe6a22",
   "metadata": {},
   "outputs": [],
   "source": [
    "## Leap year\n"
   ]
  },
  {
   "cell_type": "code",
   "execution_count": 16,
   "id": "7c6db95f-1a3e-4603-88e8-5796da1e1cd4",
   "metadata": {},
   "outputs": [
    {
     "name": "stdin",
     "output_type": "stream",
     "text": [
      "Enter year to check:-  2021\n"
     ]
    },
    {
     "name": "stdout",
     "output_type": "stream",
     "text": [
      "2021 is not a leap year\n"
     ]
    }
   ],
   "source": [
    "year = int(input(\"Enter year to check:- \"))\n",
    "\n",
    "if (year % 400 == 0) and  (year % 100 ==0):\n",
    "    print(f\"{year} is a leap year\")\n",
    "elif (year % 4 == 0) and (year % 100 != 0):\n",
    "    print(f\"{year} is a leap year\")\n",
    "else:\n",
    "    print(f\"{year} is not a leap year\")"
   ]
  },
  {
   "cell_type": "markdown",
   "id": "d198b654-c91b-4179-87ba-08bf0b83512e",
   "metadata": {},
   "source": [
    "## Prime number"
   ]
  },
  {
   "cell_type": "code",
   "execution_count": 19,
   "id": "64d9e22c-4f21-4910-8aeb-2a1aa4b66327",
   "metadata": {},
   "outputs": [
    {
     "name": "stdin",
     "output_type": "stream",
     "text": [
      "Enter a number:  5\n"
     ]
    },
    {
     "name": "stdout",
     "output_type": "stream",
     "text": [
      "5 is a PRIME number\n"
     ]
    }
   ],
   "source": [
    "num = int(input(\"Enter a number: \"))\n",
    "\n",
    "# Prime number is greater than 1\n",
    "if num > 1:\n",
    "    for i in range(2, int(num**0.5) + 1):  # Efficient check up to square root\n",
    "        if num % i == 0:\n",
    "            print(num, \"is NOT a prime number\")\n",
    "            break\n",
    "    else:\n",
    "        print(num, \"is a PRIME number\")\n",
    "else:\n",
    "    print(num, \"is NOT a prime number (must be greater than 1)\")\n"
   ]
  },
  {
   "cell_type": "code",
   "execution_count": 25,
   "id": "8f2aa41c-3cb3-4cbc-8f54-db9bbd604b39",
   "metadata": {},
   "outputs": [
    {
     "name": "stdin",
     "output_type": "stream",
     "text": [
      "Enter a number to check prime number:-  5\n"
     ]
    },
    {
     "name": "stdout",
     "output_type": "stream",
     "text": [
      "5 is a prime number.\n"
     ]
    }
   ],
   "source": [
    "num = int(input(\"Enter a number to check prime number:- \"))\n",
    "\n",
    "if num > 1:\n",
    "    for i in range (2, int(num**0.5) +1):\n",
    "        if num % i == 0:\n",
    "            print(\"Number is not a prime number.\")\n",
    "            break\n",
    "    else:\n",
    "        print(num,\"is a prime number.\")\n",
    "\n",
    "else:\n",
    "    print(num, \"is not a prime number, must be greater than 1.\")\n",
    "    \n",
    "\n",
    "            "
   ]
  },
  {
   "cell_type": "code",
   "execution_count": null,
   "id": "6065169a-0cd5-4d0e-917f-7fd667ef8cd7",
   "metadata": {},
   "outputs": [],
   "source": []
  },
  {
   "cell_type": "code",
   "execution_count": 18,
   "id": "052059ad-089e-439d-a13e-2cadddaba289",
   "metadata": {},
   "outputs": [
    {
     "name": "stdin",
     "output_type": "stream",
     "text": [
      "Enter a start of interval:- 1\n",
      "Enter end of the interval:-  10\n"
     ]
    },
    {
     "name": "stdout",
     "output_type": "stream",
     "text": [
      "1\n",
      "2\n",
      "3\n",
      "5\n",
      "7\n"
     ]
    }
   ],
   "source": [
    "## Find prime number in given interval\n",
    "\n",
    "start = int(input(\"Enter a start of interval:-\"))\n",
    "end = int(input(\"Enter end of the interval:- \"))\n",
    "\n",
    "for num in range(start, end+1):\n",
    "    if num > 0:\n",
    "        for i in range(2, int(num**0.5) +1):\n",
    "            if num % i == 0:\n",
    "                break\n",
    "        else:\n",
    "            print(num)\n",
    "                \n",
    "    \n",
    "    "
   ]
  },
  {
   "cell_type": "code",
   "execution_count": 9,
   "id": "f422ae12-3d12-48ef-80f5-339b783fc89d",
   "metadata": {},
   "outputs": [
    {
     "name": "stdin",
     "output_type": "stream",
     "text": [
      "Enter a number:- 18\n"
     ]
    },
    {
     "name": "stdout",
     "output_type": "stream",
     "text": [
      "18 is not a prime number.\n"
     ]
    }
   ],
   "source": [
    "num = int(input(\"Enter a number:-\"))\n",
    "\n",
    "if num > 1:\n",
    "    for i in range (2, int(num**0.5) + 1):\n",
    "        if num % i == 0:\n",
    "            print(num, \"is not a prime number.\")\n",
    "            break\n",
    "    else:\n",
    "        print(num, \"is a prime number.\")\n",
    "\n",
    "else:\n",
    "    print(num, \"is not a prime number.\")"
   ]
  },
  {
   "cell_type": "code",
   "execution_count": 15,
   "id": "129ec8d4-1c38-41e5-bf31-f72909709815",
   "metadata": {},
   "outputs": [
    {
     "name": "stdin",
     "output_type": "stream",
     "text": [
      "Enter a start of interval:- 1\n",
      "Enter the end of the interval:- 11\n"
     ]
    },
    {
     "name": "stdout",
     "output_type": "stream",
     "text": [
      "1\n",
      "2\n",
      "3\n",
      "5\n",
      "7\n",
      "11\n"
     ]
    }
   ],
   "source": [
    "start = int(input(\"Enter a start of interval:-\"))\n",
    "end = int(input(\"Enter the end of the interval:-\"))\n",
    "\n",
    "for num in range (start, end + 1):\n",
    "    if num > 0:\n",
    "        for i in range (2, int(num**0.5)+1):\n",
    "            if num % i == 0:\n",
    "                break\n",
    "\n",
    "        else:\n",
    "            print(num)"
   ]
  },
  {
   "cell_type": "code",
   "execution_count": 2,
   "id": "5964faff-1517-474c-926d-158bc779b472",
   "metadata": {},
   "outputs": [
    {
     "name": "stdin",
     "output_type": "stream",
     "text": [
      "Enter starting of interval:-  11\n",
      "Enter an ending of interval:-  20\n"
     ]
    },
    {
     "name": "stdout",
     "output_type": "stream",
     "text": [
      "11\n",
      "13\n",
      "17\n",
      "19\n"
     ]
    }
   ],
   "source": [
    "start = int(input(\"Enter starting of interval:- \"))\n",
    "end = int(input(\"Enter an ending of interval:- \"))\n",
    "\n",
    "for num in range (start, end+1):\n",
    "    if num > 0:\n",
    "        for i in range (2, int(num**0.5)+1):\n",
    "            if num%i == 0:\n",
    "                break\n",
    "\n",
    "        else:\n",
    "            print(num)"
   ]
  },
  {
   "cell_type": "code",
   "execution_count": null,
   "id": "c944131d-186d-4c02-a696-08a0fda7196c",
   "metadata": {},
   "outputs": [],
   "source": []
  },
  {
   "cell_type": "code",
   "execution_count": null,
   "id": "27f49ad5-99ab-414b-bd63-ead7dbca1fc4",
   "metadata": {},
   "outputs": [],
   "source": []
  },
  {
   "cell_type": "code",
   "execution_count": null,
   "id": "2e528523-bbec-437d-8188-b42cb104ab69",
   "metadata": {},
   "outputs": [],
   "source": []
  },
  {
   "cell_type": "code",
   "execution_count": null,
   "id": "f95a0721-5e74-4aa1-953b-9e41c13356d9",
   "metadata": {},
   "outputs": [],
   "source": []
  },
  {
   "cell_type": "code",
   "execution_count": null,
   "id": "f6eed3c8-2d3e-475b-945a-c1e4324e8e2a",
   "metadata": {},
   "outputs": [],
   "source": []
  },
  {
   "cell_type": "code",
   "execution_count": null,
   "id": "310caca7-bde5-4d81-9fb4-c1427602a278",
   "metadata": {},
   "outputs": [],
   "source": []
  },
  {
   "cell_type": "code",
   "execution_count": null,
   "id": "61e50827-e265-49a4-afa4-6d303f56d12c",
   "metadata": {},
   "outputs": [],
   "source": []
  },
  {
   "cell_type": "code",
   "execution_count": null,
   "id": "88048038-5b1e-4527-a9e3-60ce1578f692",
   "metadata": {},
   "outputs": [],
   "source": []
  }
 ],
 "metadata": {
  "kernelspec": {
   "display_name": "Python 3 (ipykernel)",
   "language": "python",
   "name": "python3"
  },
  "language_info": {
   "codemirror_mode": {
    "name": "ipython",
    "version": 3
   },
   "file_extension": ".py",
   "mimetype": "text/x-python",
   "name": "python",
   "nbconvert_exporter": "python",
   "pygments_lexer": "ipython3",
   "version": "3.11.7"
  }
 },
 "nbformat": 4,
 "nbformat_minor": 5
}
